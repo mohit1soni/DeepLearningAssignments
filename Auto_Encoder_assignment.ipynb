{
  "nbformat": 4,
  "nbformat_minor": 0,
  "metadata": {
    "colab": {
      "name": "Auto_Encoder_assignment.ipynb",
      "version": "0.3.2",
      "provenance": [],
      "collapsed_sections": [],
      "include_colab_link": true
    },
    "kernelspec": {
      "name": "python3",
      "display_name": "Python 3"
    },
    "accelerator": "GPU"
  },
  "cells": [
    {
      "cell_type": "markdown",
      "metadata": {
        "id": "view-in-github",
        "colab_type": "text"
      },
      "source": [
        "<a href=\"https://colab.research.google.com/github/mohit1soni/DeepLearningAssignments/blob/master/Auto_Encoder_assignment.ipynb\" target=\"_parent\"><img src=\"https://colab.research.google.com/assets/colab-badge.svg\" alt=\"Open In Colab\"/></a>"
      ]
    },
    {
      "metadata": {
        "id": "nSLZnU6Gw-px",
        "colab_type": "code",
        "colab": {}
      },
      "cell_type": "code",
      "source": [
        "from google.colab import drive\n",
        "drive.mount('/gdrive')"
      ],
      "execution_count": 0,
      "outputs": []
    },
    {
      "metadata": {
        "id": "b0BgFfj9i2JN",
        "colab_type": "code",
        "colab": {
          "base_uri": "https://localhost:8080/",
          "height": 35
        },
        "outputId": "f41e1c0f-c45e-46ba-b576-a7d016bac83b"
      },
      "cell_type": "code",
      "source": [
        "import numpy as np\n",
        "import tensorflow as tf\n",
        "import sys\n",
        "import os\n",
        "import keras"
      ],
      "execution_count": 2,
      "outputs": [
        {
          "output_type": "stream",
          "text": [
            "Using TensorFlow backend.\n"
          ],
          "name": "stderr"
        }
      ]
    },
    {
      "metadata": {
        "id": "ag7hHHYIxBAi",
        "colab_type": "code",
        "colab": {}
      },
      "cell_type": "code",
      "source": [
        "logdir = os.path.join(os.getcwd(),'logs')\n",
        "os.makedirs(logdir)"
      ],
      "execution_count": 0,
      "outputs": []
    },
    {
      "metadata": {
        "id": "oAY55rJ6jl-n",
        "colab_type": "code",
        "colab": {
          "base_uri": "https://localhost:8080/",
          "height": 53
        },
        "outputId": "dbde4c8e-603d-4844-dbba-1bb57508a196"
      },
      "cell_type": "code",
      "source": [
        "from keras.datasets import cifar10\n",
        "(X_train, Y_train), (X_test, Y_test)=cifar10.load_data()\n"
      ],
      "execution_count": 4,
      "outputs": [
        {
          "output_type": "stream",
          "text": [
            "Downloading data from https://www.cs.toronto.edu/~kriz/cifar-10-python.tar.gz\n",
            "170500096/170498071 [==============================] - 57s 0us/step\n"
          ],
          "name": "stdout"
        }
      ]
    },
    {
      "metadata": {
        "id": "mwO8RQyUwzKC",
        "colab_type": "code",
        "colab": {}
      },
      "cell_type": "code",
      "source": [
        "!wget https://bin.equinox.io/c/4VmDzA7iaHb/ngrok-stable-linux-amd64.zip\n",
        "!unzip ngrok-stable-linux-amd64.zip\n",
        "\n",
        "LOG_DIR = './log'\n",
        "get_ipython().system_raw(\n",
        "    'tensorboard --logdir {} --host 0.0.0.0 --port 8888 &'\n",
        "    .format(LOG_DIR)\n",
        ")\n",
        "\n",
        "get_ipython().system_raw('./ngrok http 8888 &')\n",
        "\n",
        "!curl -s http://localhost:4040/api/tunnels | python3 -c \\\n",
        "    \"import sys, json; print(json.load(sys.stdin)['tunnels'][0]['public_url'])\"\n",
        "    \n"
      ],
      "execution_count": 0,
      "outputs": []
    },
    {
      "metadata": {
        "id": "szXNeSARjr2K",
        "colab_type": "code",
        "colab": {}
      },
      "cell_type": "code",
      "source": [
        "#Defining Parameters\n",
        "width = 32\n",
        "height = 32\n",
        "batch_size = 500\n",
        "nb_epochs = 1000\n",
        "code_length = 256*2\n"
      ],
      "execution_count": 0,
      "outputs": []
    },
    {
      "metadata": {
        "id": "sq18GZNujyrk",
        "colab_type": "code",
        "colab": {}
      },
      "cell_type": "code",
      "source": [
        "\n",
        "#Generating the tensor flow graph for the model \n",
        "graph = tf.Graph()"
      ],
      "execution_count": 0,
      "outputs": []
    },
    {
      "metadata": {
        "id": "r1-87rWPj130",
        "colab_type": "code",
        "colab": {}
      },
      "cell_type": "code",
      "source": [
        "with graph.as_default():\n",
        "#    Definign Global Step \n",
        "    global_step=tf.Variable(0,trainable=False)\n",
        "#    Input Batch change\n",
        "    input_images=tf.placeholder(tf.float32,shape=(batch_size,height,width,3))\n",
        "\n",
        "#   Making of the convolution layer extracting features \n",
        "    conv_1=tf.layers.conv2d(input_images,filters=32,kernel_size=(3,3),\n",
        "                            kernel_initializer=tf.contrib.layers.xavier_initializer(),\n",
        "                            activation=tf.nn.leaky_relu,name=\"conv1\")\n",
        "#    Convolution output flattened \n",
        "    conv_out=tf.layers.flatten(conv_1,name=\"conv1_out\")\n",
        "#    Encoding Layer\n",
        "    encoder=tf.layers.dense(conv_out,units=code_length,activation=tf.nn.leaky_relu,name=\"encoder\")\n",
        "#    Encoder_output layer\n",
        "#  change in this line \n",
        "    encoder_out=tf.layers.dense(encoder,units=(height-2)*(width-2)*3,\n",
        "                                activation=tf.nn.leaky_relu,name=\"encoder_out\")\n",
        "#    Deconvolution Layer\n",
        "    deconv_input=tf.reshape(encoder_out,shape=(batch_size,height-2,width-2,3),\n",
        "                                name=\"deconv_inp\")\n",
        "    deconv_1=tf.layers.conv2d_transpose(deconv_input,filters=3,\n",
        "                                        kernel_size=(3,3),\n",
        "                                        kernel_initializer=tf.contrib.layers.xavier_initializer(),\n",
        "                                        activation=tf.sigmoid,name=\"deconv1\")\n",
        "#    Making Output Images\n",
        "    output_images=tf.cast(tf.reshape(deconv_1,(batch_size,height,width,3))*255.0,tf.uint8)\n",
        "    \n",
        "#    Loss consruction\n",
        "    loss=tf.nn.l2_loss(input_images-deconv_1)\n",
        "    decay_step=int(X_train.shape[0]/(2*batch_size))\n",
        "#    Traning The Model\n",
        "    learning_rate=tf.train.exponential_decay(learning_rate=0.001,\n",
        "                                             global_step=global_step,\n",
        "                                             decay_steps=decay_step,\n",
        "                                             decay_rate=0.95,\n",
        "                                             staircase=True)\n",
        "    trainer=tf.train.AdamOptimizer(learning_rate)\n",
        "    \n",
        "    ridx1 = tf.random_uniform((),0,batch_size,dtype=tf.int32)\n",
        "    img_summary = tf.summary.image('original',tf.reshape(output_images[ridx1,:,:,:],(1,width,height,3)),max_outputs=1)\n",
        "    loss_summary = tf.summary.scalar('loss_summary',loss)\n",
        "    lr_summary = tf.summary.scalar('lr_summary',learning_rate)\n",
        "    \n",
        "    summary_merged = tf.summary.merge([loss_summary,lr_summary,img_summary])\n",
        "    training_step=trainer.minimize(loss,name=\"Trainer\")\n"
      ],
      "execution_count": 0,
      "outputs": []
    },
    {
      "metadata": {
        "id": "1Mg9WHsRj6ul",
        "colab_type": "code",
        "colab": {}
      },
      "cell_type": "code",
      "source": [
        "from skimage.color import rgb2gray\n",
        "from sklearn.decomposition import PCA\n",
        "import multiprocessing\n",
        "import matplotlib.pyplot as plt"
      ],
      "execution_count": 0,
      "outputs": []
    },
    {
      "metadata": {
        "id": "Lu2rV5EkkBBE",
        "colab_type": "code",
        "colab": {
          "base_uri": "https://localhost:8080/",
          "height": 73
        },
        "outputId": "e2b6d3b9-f705-4ca3-c7c5-ea9ec53e5b2e"
      },
      "cell_type": "code",
      "source": [
        "use_gpu = True\n",
        "\n",
        "sess = tf.InteractiveSession(graph=graph)\n",
        "\n",
        "writer = tf.summary.FileWriter('./log')\n",
        "writer.add_graph(sess.graph)\n",
        "writer.flush()\n",
        "\n",
        "tf.global_variables_initializer().run()\n"
      ],
      "execution_count": 19,
      "outputs": [
        {
          "output_type": "stream",
          "text": [
            "/usr/local/lib/python3.6/dist-packages/tensorflow/python/client/session.py:1702: UserWarning: An interactive session is already active. This can cause out-of-memory errors in some cases. You must explicitly call `InteractiveSession.close()` to release resources held by the other session(s).\n",
            "  warnings.warn('An interactive session is already active. This can '\n"
          ],
          "name": "stderr"
        }
      ]
    },
    {
      "metadata": {
        "id": "owwRrt9QkLoi",
        "colab_type": "code",
        "colab": {}
      },
      "cell_type": "code",
      "source": [
        "def create_batch(t, gray=False):\n",
        "    X = np.zeros((batch_size, height, width, 3 if not gray else 1), dtype=np.float32)\n",
        "        \n",
        "    for k, image in enumerate(X_train[t:t+batch_size]):\n",
        "        if gray:\n",
        "            X[k, :, :, :] = rgb2gray(image)\n",
        "        else:\n",
        "            X[k, :, :, :] = image / 255.0\n",
        "        \n",
        "    return X"
      ],
      "execution_count": 0,
      "outputs": []
    },
    {
      "metadata": {
        "id": "4zvc0shAkVFr",
        "colab_type": "code",
        "colab": {}
      },
      "cell_type": "code",
      "source": [
        "for e in range(nb_epochs):\n",
        "    total_loss = 0.0\n",
        "    \n",
        "    for t in range(0, X_train.shape[0], batch_size):\n",
        "        feed_dict = {\n",
        "            input_images: create_batch(t)\n",
        "        }\n",
        "\n",
        "        _, v_loss,summary_write = sess.run([training_step, loss,summary_merged], feed_dict=feed_dict)\n",
        "        total_loss += v_loss\n",
        "        writer.add_summary(summary_write,e)\n",
        "    \n",
        "    print('Epoch {} - Total loss: {}'.format(e+1, total_loss)) \n",
        "    if e%50==0:\n",
        "      print('...syncing logs with google drive...')\n",
        "      ! rsync --update -raz './log' logs\n",
        "    \n",
        "feed_dict = {input_images: create_batch(0)}\n",
        "\n",
        "oimages = sess.run([output_images], feed_dict=feed_dict)\n",
        "\n",
        "fig, ax = plt.subplots(2, batch_size, figsize=(18, 3))\n"
      ],
      "execution_count": 0,
      "outputs": []
    },
    {
      "metadata": {
        "id": "S2XmXVopRojz",
        "colab_type": "code",
        "colab": {
          "base_uri": "https://localhost:8080/",
          "height": 169
        },
        "outputId": "41670c89-49d0-40c0-9885-a31875b46bdf"
      },
      "cell_type": "code",
      "source": [
        "fig, ax = plt.subplots(2, 3, figsize=(3, 3))\n",
        "\n",
        "for y in range(3):\n",
        "    ax[0, y].get_xaxis().set_visible(False)\n",
        "    ax[0, y].get_yaxis().set_visible(False)\n",
        "    ax[1, y].get_xaxis().set_visible(False)\n",
        "    ax[1, y].get_yaxis().set_visible(False)\n",
        "\n",
        "    ax[0, y].imshow(X_train[y])\n",
        "    ax[1, y].imshow(oimages[0][y])"
      ],
      "execution_count": 23,
      "outputs": [
        {
          "output_type": "display_data",
          "data": {
            "image/png": "[encoded data removed]",
            "text/plain": [
              "<matplotlib.figure.Figure at 0x7f3804ab5b00>"
            ]
          },
          "metadata": {
            "tags": []
          }
        }
      ]
    }
  ]
}